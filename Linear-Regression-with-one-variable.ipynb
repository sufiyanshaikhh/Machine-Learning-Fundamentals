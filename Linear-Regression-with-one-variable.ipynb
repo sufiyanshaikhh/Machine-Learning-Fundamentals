{
 "cells": [
  {
   "cell_type": "markdown",
   "id": "f94227b5-f91a-4edc-9351-b6170b25d7d8",
   "metadata": {},
   "source": [
    "## Importing depending libraries:\n",
    "Numpy, for scientific computing, Matplotlib, for plotting data."
   ]
  },
  {
   "cell_type": "code",
   "execution_count": 2,
   "id": "47b88d77-9665-44a3-8c94-0ce9fa09f609",
   "metadata": {},
   "outputs": [],
   "source": [
    "import numpy as np\n",
    "import matplotlib.pyplot as plt\n",
    "plt.style.use('./deeplearning.mplstyle')"
   ]
  },
  {
   "cell_type": "markdown",
   "id": "298907ad-1e07-4dbb-80d8-ead9144be528",
   "metadata": {},
   "source": [
    "# Problem Statement - Housing price prediction\n",
    "We will use a simple data set with only two data points - a house with 1000 square feet(sqft) sold for \\\\$300,000 and a house with 2000 square feet sold for \\\\$500,000. These two points will constitute our *data or training set*.The units of size are 1000 sqft and the units of price are 1000s of dollars.\n",
    "\n",
    "| Size (1000 sqft)     | Price (1000s of dollars) |\n",
    "| -------------------| ------------------------ |\n",
    "| 1.0               | 300                      |\n",
    "| 2.0               | 500                      |\n",
    "\n",
    "We would fit a linear regression model through these two points, so we can then predict price for other houses - say, a house with 1200 sqft."
   ]
  },
  {
   "cell_type": "code",
   "execution_count": 3,
   "id": "f28f8a47-aa42-4a48-b2da-ae76b408d974",
   "metadata": {},
   "outputs": [
    {
     "name": "stdout",
     "output_type": "stream",
     "text": [
      "x_train = [1. 2.]\n",
      "y_train = [300. 500.]\n"
     ]
    }
   ],
   "source": [
    "# x_train is the input variable (size in 1000 square feet)\n",
    "# y_train is the target (price in 1000s of dollars)\n",
    "x_train = np.array([1.0, 2.0])\n",
    "y_train = np.array([300.0, 500.0])\n",
    "print(f\"x_train = {x_train}\")\n",
    "print(f\"y_train = {y_train}\")"
   ]
  },
  {
   "cell_type": "code",
   "execution_count": 4,
   "id": "86e4adbc-f031-46ea-9aab-ad1dfcf8270a",
   "metadata": {},
   "outputs": [
    {
     "name": "stdout",
     "output_type": "stream",
     "text": [
      "x_train.shape: (2,)\n",
      "Number of training examples is: 2\n"
     ]
    }
   ],
   "source": [
    "# m is the number of training examples\n",
    "print(f\"x_train.shape: {x_train.shape}\")\n",
    "m = x_train.shape[0]\n",
    "print(f\"Number of training examples is: {m}\")"
   ]
  },
  {
   "cell_type": "code",
   "execution_count": 5,
   "id": "fb92a91f-f7de-459a-83c1-314ffa67937e",
   "metadata": {},
   "outputs": [
    {
     "name": "stdout",
     "output_type": "stream",
     "text": [
      "Number of training examples is: 2\n"
     ]
    }
   ],
   "source": [
    "# Alternative way of finding the number of training examples\n",
    "# m is the number of training examples\n",
    "m = len(x_train)\n",
    "print(f\"Number of training examples is: {m}\")"
   ]
  },
  {
   "cell_type": "markdown",
   "id": "daf03ed4-93fa-4966-8483-8c775732742f",
   "metadata": {},
   "source": [
    "## Accessing the training tuples from the training data set"
   ]
  },
  {
   "cell_type": "code",
   "execution_count": 7,
   "id": "15e4d158-9a24-4e40-b15c-6420662cbb40",
   "metadata": {},
   "outputs": [
    {
     "name": "stdout",
     "output_type": "stream",
     "text": [
      "(x^(0), y^(0)) = (1.0, 300.0)\n"
     ]
    }
   ],
   "source": [
    "i = 0 # We can frequently change the value of i to get hold of desired training set\n",
    "\n",
    "x_i = x_train[i]\n",
    "y_i = y_train[i]\n",
    "print(f\"(x^({i}), y^({i})) = ({x_i}, {y_i})\")"
   ]
  },
  {
   "cell_type": "markdown",
   "id": "12cb0efd-efa4-42f4-b7e4-77192a394d34",
   "metadata": {},
   "source": [
    "## Plotting the data"
   ]
  },
  {
   "cell_type": "code",
   "execution_count": 8,
   "id": "7b7d7457-cb95-4289-9182-ca7c46499b43",
   "metadata": {},
   "outputs": [
    {
     "data": {
      "image/png": "[encoded data removed]",
      "text/plain": [
       "<Figure size 640x480 with 1 Axes>"
      ]
     },
     "metadata": {},
     "output_type": "display_data"
    }
   ],
   "source": [
    "# Plotting the data points\n",
    "plt.scatter(x_train, y_train, marker='x', c='r')\n",
    "# Setting the title\n",
    "plt.title(\"Housing Prices\")\n",
    "# Setting the y-axis label\n",
    "plt.ylabel('Price (in 1000s of dollars)')\n",
    "# Setting the x-axis label\n",
    "plt.xlabel('Size (1000 sqft)')\n",
    "plt.show()"
   ]
  },
  {
   "cell_type": "markdown",
   "id": "532d2a40-f183-4752-b3ff-59caccb2c6f6",
   "metadata": {},
   "source": [
    "## Model Function"
   ]
  },
  {
   "cell_type": "markdown",
   "id": "49f7bc04-7a67-401c-bf34-62e30dd0bdd6",
   "metadata": {},
   "source": [
    "The model function for linear regression (which is a function that maps from `x` to `y`) is represented as: \n",
    "\n",
    "$$ f_{w,b}(x^{(i)}) = wx^{(i)} + b \\tag{1}$$\n",
    "\n",
    "The formula above is how we can represent straight lines - different values of $w$ and $b$ gives us different straight lines on the plot. "
   ]
  },
  {
   "cell_type": "code",
   "execution_count": 9,
   "id": "c6a8aa70-fa44-4364-841c-2e3e7bbf0b93",
   "metadata": {},
   "outputs": [
    {
     "name": "stdout",
     "output_type": "stream",
     "text": [
      "w: 200\n",
      "b: 100\n"
     ]
    }
   ],
   "source": [
    "w = 200\n",
    "b = 100\n",
    "print(f\"w: {w}\")\n",
    "print(f\"b: {b}\")"
   ]
  },
  {
   "cell_type": "markdown",
   "id": "cc109ec2-6713-4e1f-a5e3-22004aa4e1c4",
   "metadata": {},
   "source": [
    "Computing the value of $f_{w,b}(x^{(i)})$ for our two data points. We can explicitly write this out for each data point as - \n",
    "\n",
    "for $x^{(0)}$, `f_wb = w * x[0] + b`\n",
    "\n",
    "for $x^{(1)}$, `f_wb = w * x[1] + b`\n",
    "\n",
    "For a large number of data points, this can get unwieldy and repetitive. So instead, we can calculate the function output in a `for` loop as shown in the `compute_model_output` function below."
   ]
  },
  {
   "cell_type": "code",
   "execution_count": 10,
   "id": "3fd5bf6c-8254-4291-b2cd-95ba23c8b7ca",
   "metadata": {},
   "outputs": [],
   "source": [
    "def compute_model_output(x_train, w, b):\n",
    "    \"\"\"\n",
    "    Computes the prediction of a linear model\n",
    "    Args:\n",
    "      x (ndarray (m,)): Data, m examples \n",
    "      w,b (scalar)    : model parameters  \n",
    "    Returns\n",
    "      f_wb (ndarray (m,)): model prediction\n",
    "    \"\"\"\n",
    "    m = x_train.shape[0]\n",
    "    f_wb = np.zeros(m)\n",
    "    for i in range(m):\n",
    "        f_wb[i] = w * x_train[i] + b\n",
    "        \n",
    "    return f_wb"
   ]
  },
  {
   "cell_type": "markdown",
   "id": "61f80146-d90c-4c31-b50e-12abcedbe143",
   "metadata": {},
   "source": [
    "Calling the compute_model_output function and plotting the output."
   ]
  },
  {
   "cell_type": "code",
   "execution_count": 12,
   "id": "39157aff-6f27-4c13-b87b-c40894eb05bb",
   "metadata": {},
   "outputs": [
    {
     "data": {
      "image/png": "[encoded data removed]",
      "text/plain": [
       "<Figure size 640x480 with 1 Axes>"
      ]
     },
     "metadata": {},
     "output_type": "display_data"
    }
   ],
   "source": [
    "tmp_f_wb = compute_model_output(x_train, w, b,)\n",
    "\n",
    "# Plotting our model prediction\n",
    "plt.plot(x_train, tmp_f_wb, c='b',label='Our Prediction')\n",
    "\n",
    "# Plotting the data points\n",
    "plt.scatter(x_train, y_train, marker='x', c='r',label='Actual Values')\n",
    "\n",
    "# Setting the title\n",
    "plt.title(\"Housing Prices\")\n",
    "# Setting the y-axis label\n",
    "plt.ylabel('Price (in 1000s of dollars)')\n",
    "# Setting the x-axis label\n",
    "plt.xlabel('Size (1000 sqft)')\n",
    "plt.legend()\n",
    "plt.show()"
   ]
  },
  {
   "cell_type": "markdown",
   "id": "214f5267-69b7-4710-811c-3cab3b9522f8",
   "metadata": {},
   "source": [
    "## Prediction\n",
    "Predicting the price of a house with 1200 sqft. Since the units of 𝑥 are in 1000's of sqft, 𝑥 is 1.2."
   ]
  },
  {
   "cell_type": "code",
   "execution_count": 13,
   "id": "6f789eaf-faa6-4cfa-9b2d-8cf6ac598e44",
   "metadata": {},
   "outputs": [
    {
     "name": "stdout",
     "output_type": "stream",
     "text": [
      "$340 thousand dollars\n"
     ]
    }
   ],
   "source": [
    "w = 200                         \n",
    "b = 100    \n",
    "x_i = 1.2\n",
    "cost_1200sqft = w * x_i + b    \n",
    "\n",
    "print(f\"${cost_1200sqft:.0f} thousand dollars\")"
   ]
  }
 ],
 "metadata": {
  "kernelspec": {
   "display_name": "Python 3 (ipykernel)",
   "language": "python",
   "name": "python3"
  },
  "language_info": {
   "codemirror_mode": {
    "name": "ipython",
    "version": 3
   },
   "file_extension": ".py",
   "mimetype": "text/x-python",
   "name": "python",
   "nbconvert_exporter": "python",
   "pygments_lexer": "ipython3",
   "version": "3.13.5"
  }
 },
 "nbformat": 4,
 "nbformat_minor": 5
}
